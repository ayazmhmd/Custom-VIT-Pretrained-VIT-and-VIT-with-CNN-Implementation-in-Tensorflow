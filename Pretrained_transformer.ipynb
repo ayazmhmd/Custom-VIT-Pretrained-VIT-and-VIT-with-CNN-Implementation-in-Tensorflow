{
  "cells": [
    {
      "cell_type": "code",
      "execution_count": null,
      "metadata": {
        "id": "zBNrLq4SJnFg"
      },
      "outputs": [],
      "source": [
        "\n",
        "import numpy as np # linear algebra\n",
        "import pandas as pd # data processing, CSV file I/O (e.g. pd.read_csv)\n",
        "\n",
        "import os\n",
        "\n",
        "import copy\n",
        "import warnings\n",
        "warnings.filterwarnings('ignore')\n",
        "import tensorflow as tf\n",
        "import cv2\n",
        "import keras\n",
        "from tensorflow.keras.preprocessing.image import ImageDataGenerator\n",
        "from tensorflow.keras.preprocessing.image import load_img, img_to_array\n",
        "import matplotlib\n",
        "import matplotlib.pylab as plt\n",
        "import numpy as np\n",
        "import seaborn as sns\n",
        "from sklearn.utils import shuffle\n",
        "from sklearn.metrics import confusion_matrix\n",
        "from sklearn.model_selection import train_test_split\n",
        "import matplotlib.pyplot as plt\n",
        "from keras.applications.vgg16 import VGG16,preprocess_input\n"
      ]
    },
    {
      "cell_type": "code",
      "execution_count": null,
      "metadata": {
        "colab": {
          "base_uri": "https://localhost:8080/"
        },
        "id": "WHTi22r0L7Sp",
        "outputId": "abbbdc1f-373e-4019-a8a8-ce726de8dc51"
      },
      "outputs": [
        {
          "name": "stdout",
          "output_type": "stream",
          "text": [
            "Drive already mounted at /content/drive; to attempt to forcibly remount, call drive.mount(\"/content/drive\", force_remount=True).\n"
          ]
        }
      ],
      "source": [
        "from google.colab import drive\n",
        "drive.mount('/content/drive')"
      ]
    },
    {
      "cell_type": "code",
      "execution_count": null,
      "metadata": {
        "id": "988LKWYOjtMD"
      },
      "outputs": [],
      "source": [
        "import os\n",
        "os.chdir('Path to your main Directory')"
      ]
    },
    {
      "cell_type": "markdown",
      "metadata": {},
      "source": [
        "# Data Loader \n",
        "## Here i have written custom Loop to read images and labels"
      ]
    },
    {
      "cell_type": "code",
      "execution_count": null,
      "metadata": {
        "id": "1fewz_OWJnFz"
      },
      "outputs": [],
      "source": [
        "import os\n",
        "import numpy as np\n",
        "from sklearn.utils import shuffle\n",
        "from PIL import Image\n",
        "\n",
        "W = 224\n",
        "H = 224\n",
        "dataset = \"images\"\n",
        "label_to_class = {'Fractured': 0, 'Non_fractured': 1}\n",
        "\n",
        "Images = []\n",
        "Classes = []\n",
        "\n",
        "class_to_label = {v: k for k, v in label_to_class.items()}\n",
        "n_classes = len(label_to_class)\n",
        "\n",
        "for folder in os.listdir(dataset):\n",
        "    img_folder = os.path.join(dataset, folder)\n",
        "    cls = label_to_class[folder]\n",
        "    i = 0\n",
        "\n",
        "    for img_name in os.listdir(img_folder):\n",
        "        img_path = os.path.join(img_folder, img_name)\n",
        "        try:\n",
        "        # Use Pillow to open and resize the image\n",
        "          img = Image.open(img_path)\n",
        "\n",
        "          # Check if the image is grayscale\n",
        "          if img.mode == 'L':\n",
        "              img = img.convert('RGB')\n",
        "          img = img.resize((W, H))\n",
        "          # Convert to numpy array\n",
        "          img = np.array(img)\n",
        "\n",
        "        except Exception as e:\n",
        "            img = cv2.imread(img_path)\n",
        "            img = cv2.cvtColor(img, cv2.COLOR_BGR2RGB)\n",
        "            img = cv2.resize(img, (W, H))\n",
        "        Images.append(img)\n",
        "        Classes.append(cls)\n",
        "\n",
        "\n",
        "        if i == 800:\n",
        "            break\n",
        "        i = i + 1\n",
        "\n",
        "Images = np.array(Images, dtype=np.float32)\n",
        "Classes = np.array(Classes, dtype=np.float32)\n",
        "Images, Classes = shuffle(Images, Classes, random_state=0)\n"
      ]
    },
    {
      "cell_type": "code",
      "execution_count": null,
      "metadata": {
        "colab": {
          "base_uri": "https://localhost:8080/"
        },
        "id": "WX4sLzVlJnF2",
        "outputId": "a21aedfb-3678-4d95-cb3a-cc2b820ddf19"
      },
      "outputs": [
        {
          "data": {
            "text/plain": [
              "((1518, 224, 224, 3), (1518,))"
            ]
          },
          "execution_count": 6,
          "metadata": {},
          "output_type": "execute_result"
        }
      ],
      "source": [
        "Images.shape, Classes.shape"
      ]
    },
    {
      "cell_type": "code",
      "execution_count": null,
      "metadata": {
        "colab": {
          "base_uri": "https://localhost:8080/"
        },
        "id": "5ZyCWiCLJnF7",
        "outputId": "7fb4592f-abd2-40b0-f139-1cc87bd56e14"
      },
      "outputs": [
        {
          "data": {
            "text/plain": [
              "array([1., 0., 0., ..., 1., 0., 0.], dtype=float32)"
            ]
          },
          "execution_count": 7,
          "metadata": {},
          "output_type": "execute_result"
        }
      ],
      "source": [
        "Classes"
      ]
    },
    {
      "cell_type": "markdown",
      "metadata": {},
      "source": [
        "# Spliting The data into train and Test"
      ]
    },
    {
      "cell_type": "code",
      "execution_count": null,
      "metadata": {
        "colab": {
          "base_uri": "https://localhost:8080/"
        },
        "id": "4YG1ozuIJnF-",
        "outputId": "0d8ac7b8-a4c3-4949-a20e-4b1121e4eb14"
      },
      "outputs": [
        {
          "data": {
            "text/plain": [
              "((1214, 224, 224, 3), (1214,), (304, 224, 224, 3), (304,))"
            ]
          },
          "execution_count": 8,
          "metadata": {},
          "output_type": "execute_result"
        }
      ],
      "source": [
        "## split train / test\n",
        "\n",
        "indices_train, indices_test = train_test_split(list(range(Images.shape[0])), train_size=0.8, test_size=0.2, shuffle=True)\n",
        "\n",
        "x_train = Images[indices_train]\n",
        "y_train = Classes[indices_train]\n",
        "x_test = Images[indices_test]\n",
        "y_test = Classes[indices_test]\n",
        "\n",
        "x_train.shape, y_train.shape, x_test.shape, y_test.shape"
      ]
    },
    {
      "cell_type": "code",
      "execution_count": null,
      "metadata": {
        "colab": {
          "base_uri": "https://localhost:8080/"
        },
        "id": "HT8tcsifJnGE",
        "outputId": "747823f5-45f7-4b73-ef78-0125b93c9a99"
      },
      "outputs": [
        {
          "data": {
            "text/plain": [
              "array([1., 1., 1., 0., 1., 0., 0., 1., 0., 0., 1., 0., 1., 0., 0., 1., 1.,\n",
              "       1., 0., 0., 1., 0., 0., 0., 0., 0., 0., 0., 0., 0., 1., 1., 0., 0.,\n",
              "       0., 1., 1., 0., 0., 0., 0., 0., 0., 0., 0., 1., 0., 0., 1., 1., 0.,\n",
              "       1., 1., 1., 1., 0., 1., 1., 0., 1., 0., 1., 1., 1., 0., 0., 0., 0.,\n",
              "       1., 0., 0., 0., 1., 0., 1., 0., 1., 1., 1., 1., 1., 0., 0., 0., 0.,\n",
              "       1., 0., 1., 1., 1., 0., 1., 0., 1., 0., 1., 0., 0., 0., 0., 1., 0.,\n",
              "       0., 1., 0., 0., 1., 0., 1., 0., 0., 0., 0., 1., 1., 0., 1., 1., 0.,\n",
              "       0., 0., 0., 1., 1., 1., 1., 1., 0., 0., 0., 1., 0., 0., 1., 0., 1.,\n",
              "       1., 0., 0., 1., 1., 0., 0., 0., 1., 1., 0., 0., 1., 0., 0., 1., 1.,\n",
              "       0., 0., 1., 1., 0., 1., 1., 0., 1., 1., 1., 1., 1., 1., 1., 1., 1.,\n",
              "       1., 0., 0., 1., 0., 0., 0., 0., 0., 0., 0., 0., 1., 0., 1., 0., 1.,\n",
              "       0., 1., 1., 0., 0., 1., 1., 0., 0., 1., 0., 0., 1., 1., 1., 0., 1.,\n",
              "       0., 0., 0., 0., 1., 0., 0., 0., 0., 0., 1., 1., 0., 0., 0., 0., 1.,\n",
              "       1., 0., 0., 1., 1., 0., 0., 1., 0., 1., 1., 0., 1., 0., 0., 1., 1.,\n",
              "       1., 1., 1., 0., 0., 1., 0., 1., 1., 1., 0., 0., 0., 1., 1., 0., 0.,\n",
              "       0., 1., 1., 1., 1., 1., 1., 0., 0., 1., 0., 0., 0., 0., 0., 0., 1.,\n",
              "       0., 1., 1., 1., 1., 0., 0., 1., 0., 1., 1., 1., 0., 1., 0., 0., 0.,\n",
              "       1., 1., 1., 0., 1., 1., 1., 0., 0., 1., 0., 1., 0., 1., 1.],\n",
              "      dtype=float32)"
            ]
          },
          "execution_count": 9,
          "metadata": {},
          "output_type": "execute_result"
        }
      ],
      "source": [
        "y_test"
      ]
    },
    {
      "cell_type": "code",
      "execution_count": null,
      "metadata": {
        "id": "xoN5US_CJnGH"
      },
      "outputs": [],
      "source": [
        "from keras.utils import to_categorical"
      ]
    },
    {
      "cell_type": "code",
      "execution_count": null,
      "metadata": {
        "colab": {
          "base_uri": "https://localhost:8080/"
        },
        "id": "D1Rc61mxJnGK",
        "outputId": "efbff6d2-f30a-4f4d-d741-a85c42837e79"
      },
      "outputs": [
        {
          "data": {
            "text/plain": [
              "((1214, 2), (304, 2))"
            ]
          },
          "execution_count": 11,
          "metadata": {},
          "output_type": "execute_result"
        }
      ],
      "source": [
        "y_train = keras.utils.to_categorical(y_train, n_classes)\n",
        "y_test = keras.utils.to_categorical(y_test, n_classes)\n",
        "\n",
        "y_train.shape, y_test.shape"
      ]
    },
    {
      "cell_type": "code",
      "execution_count": null,
      "metadata": {
        "colab": {
          "base_uri": "https://localhost:8080/"
        },
        "id": "ZAVopVgVJnGY",
        "outputId": "1b1152ff-6c62-49d8-b3fc-e9e3901c5995"
      },
      "outputs": [
        {
          "data": {
            "text/plain": [
              "((1214, 224, 224, 3), (1214, 2), (304, 224, 224, 3), (304, 2))"
            ]
          },
          "execution_count": 12,
          "metadata": {},
          "output_type": "execute_result"
        }
      ],
      "source": [
        "x_train.shape, y_train.shape, x_test.shape, y_test.shape"
      ]
    },
    {
      "cell_type": "markdown",
      "metadata": {},
      "source": [
        "## Pretrained Transformer Model"
      ]
    },
    {
      "cell_type": "code",
      "execution_count": null,
      "metadata": {
        "colab": {
          "base_uri": "https://localhost:8080/"
        },
        "id": "e6PR_fFtJnGe",
        "outputId": "922109c4-8d13-415d-9709-3878d31fcec9"
      },
      "outputs": [
        {
          "name": "stdout",
          "output_type": "stream",
          "text": [
            "Requirement already satisfied: tensorflow-addons in /usr/local/lib/python3.10/dist-packages (0.23.0)\n",
            "Requirement already satisfied: packaging in /usr/local/lib/python3.10/dist-packages (from tensorflow-addons) (23.2)\n",
            "Requirement already satisfied: typeguard<3.0.0,>=2.7 in /usr/local/lib/python3.10/dist-packages (from tensorflow-addons) (2.13.3)\n"
          ]
        }
      ],
      "source": [
        "!pip install -U tensorflow-addons"
      ]
    },
    {
      "cell_type": "code",
      "execution_count": null,
      "metadata": {
        "id": "xmcqmKddJnGi"
      },
      "outputs": [],
      "source": [
        "import numpy as np\n",
        "import tensorflow as tf\n",
        "from tensorflow import keras\n",
        "from tensorflow.keras import layers\n",
        "import tensorflow_addons as tfa"
      ]
    },
    {
      "cell_type": "code",
      "execution_count": null,
      "metadata": {
        "id": "U3CXiizsJnGk"
      },
      "outputs": [],
      "source": [
        "num_classes = 2\n",
        "input_shape = (224,224, 3)"
      ]
    },
    {
      "cell_type": "code",
      "execution_count": null,
      "metadata": {},
      "outputs": [],
      "source": [
        "!pip install vit_keras"
      ]
    },
    {
      "cell_type": "code",
      "execution_count": null,
      "metadata": {},
      "outputs": [],
      "source": [
        "from vit_keras import vit\n",
        "\n",
        "vit_model = vit.vit_b16(\n",
        "        image_size = image_size,\n",
        "        activation = 'softmax',\n",
        "        pretrained = True,\n",
        "        include_top = False,\n",
        "        pretrained_top = False,\n",
        "        classes = 2)\n",
        "\n",
        "model = tf.keras.Sequential([\n",
        "        vit_model,\n",
        "        tf.keras.layers.Flatten(),\n",
        "        tf.keras.layers.BatchNormalization(),\n",
        "        tf.keras.layers.Dense(128, activation = tfa.activations.gelu),\n",
        "        tf.keras.layers.BatchNormalization(),\n",
        "        tf.keras.layers.Dense(64, activation = tfa.activations.gelu),\n",
        "        tf.keras.layers.Dense(32, activation = tfa.activations.gelu),\n",
        "        tf.keras.layers.Dense(2, 'softmax')\n",
        "    ],\n",
        "    name = 'vision_transformer')"
      ]
    },
    {
      "cell_type": "code",
      "execution_count": null,
      "metadata": {
        "id": "wy3HbqHUJnG4"
      },
      "outputs": [],
      "source": [
        "from matplotlib import pyplot\n",
        "from sklearn.metrics import precision_score,recall_score,f1_score,accuracy_score,classification_report"
      ]
    },
    {
      "cell_type": "markdown",
      "metadata": {},
      "source": [
        "### Model Training"
      ]
    },
    {
      "cell_type": "code",
      "execution_count": 1,
      "metadata": {
        "colab": {
          "base_uri": "https://localhost:8080/"
        },
        "id": "X-Cu-i3OA00a",
        "outputId": "37c9305c-54cf-4206-9927-aa77b7a0d426"
      },
      "outputs": [],
      "source": [
        "model.compile(\n",
        "    optimizer=tf.optimizers.Adam(learning_rate = learning_rate,\n",
        "                                 weight_decay = weight_decay),\n",
        "    loss=keras.losses.CategoricalCrossentropy(),\n",
        "    metrics=[keras.metrics.CategoricalAccuracy(name=\"accuracy\")],\n",
        ")\n",
        "\n",
        "model.summary()\n"
      ]
    },
    {
      "cell_type": "code",
      "execution_count": 1,
      "metadata": {
        "id": "cwT6T_dISzRq"
      },
      "outputs": [],
      "source": [
        "\n",
        "# Assign class weight in case of imbalance and set it in model.fit too\n",
        "# class_weight_dict = {0: 0.3, 1: 0.2}  # class weights directly\n",
        "\n",
        "history = model.fit(\n",
        "    x_train, y_train, batch_size=2, epochs=4, validation_data=(x_test, y_test)\n",
        ")\n",
        "\n",
        "# evaluate the model\n",
        "loss, accuracy = model.evaluate(x_test, y_test)\n",
        "print(f\"Test loss: {round(loss, 2)}\")\n",
        "print(f\"Test accuracy: {round(accuracy * 100, 2)} %\")\n"
      ]
    },
    {
      "cell_type": "code",
      "execution_count": null,
      "metadata": {
        "id": "cUBmEUggfBQw"
      },
      "outputs": [],
      "source": [
        "y_pred=model.predict(x_test)"
      ]
    },
    {
      "cell_type": "code",
      "execution_count": null,
      "metadata": {
        "id": "562YlM4HfoKJ"
      },
      "outputs": [],
      "source": [
        "y_pred=np.argmax(y_pred,axis=1)"
      ]
    },
    {
      "cell_type": "code",
      "execution_count": null,
      "metadata": {
        "id": "8Z5qLFv6fumD"
      },
      "outputs": [],
      "source": [
        "y_pred"
      ]
    },
    {
      "cell_type": "code",
      "execution_count": null,
      "metadata": {
        "id": "cgYld1gvf-3g"
      },
      "outputs": [],
      "source": [
        "len(y_test),len(y_pred)"
      ]
    },
    {
      "cell_type": "code",
      "execution_count": null,
      "metadata": {
        "id": "3x3kB7xBgXWi"
      },
      "outputs": [],
      "source": [
        "y_testt=np.argmax(y_test, axis=1)"
      ]
    },
    {
      "cell_type": "code",
      "execution_count": null,
      "metadata": {
        "id": "i6V6fdAMgGWz"
      },
      "outputs": [],
      "source": [
        "from sklearn.metrics import confusion_matrix\n",
        "cm = confusion_matrix(y_testt, y_pred)\n",
        "cm"
      ]
    },
    {
      "cell_type": "code",
      "execution_count": null,
      "metadata": {
        "id": "kXZqPvi-hdzU"
      },
      "outputs": [],
      "source": [
        "plt.figure(figsize = (10,7))\n",
        "sns.heatmap(cm, annot=True, fmt='g')\n",
        "plt.show()"
      ]
    },
    {
      "cell_type": "code",
      "execution_count": null,
      "metadata": {
        "id": "NVH3gVgWh4fQ"
      },
      "outputs": [],
      "source": [
        "classes = ['fractured','no fractured']\n",
        "from sklearn.metrics import classification_report\n",
        "print(classification_report(y_test, y_pred,target_names=classes))\n"
      ]
    },
    {
      "cell_type": "code",
      "execution_count": null,
      "metadata": {
        "id": "71DlD-0WFbkJ"
      },
      "outputs": [],
      "source": [
        "# evaluate the model\n",
        "loss, accuracy = model.evaluate(x_test, y_test)\n",
        "print(f\"Test loss: {round(loss, 2)}\")\n",
        "print(f\"Test accuracy: {round(accuracy * 100, 2)} %\")"
      ]
    }
  ],
  "metadata": {
    "accelerator": "GPU",
    "colab": {
      "gpuType": "T4",
      "provenance": []
    },
    "kernelspec": {
      "display_name": "Python 3",
      "name": "python3"
    },
    "language_info": {
      "codemirror_mode": {
        "name": "ipython",
        "version": 3
      },
      "file_extension": ".py",
      "mimetype": "text/x-python",
      "name": "python",
      "nbconvert_exporter": "python",
      "pygments_lexer": "ipython3",
      "version": "3.10.7"
    }
  },
  "nbformat": 4,
  "nbformat_minor": 0
}
